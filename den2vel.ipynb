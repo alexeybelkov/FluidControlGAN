{
 "cells": [
  {
   "cell_type": "code",
   "execution_count": 806,
   "id": "2af0e65b",
   "metadata": {
    "cellId": "jftzi84moejotkzs217x0b"
   },
   "outputs": [
    {
     "ename": "Error",
     "evalue": "Failed to run cell: internal error. Please try again",
     "output_type": "error",
     "traceback": []
    }
   ],
   "source": [
    "#!g1.1\n",
    "from pathlib import Path\n",
    "no_obs_path = Path('/home/jupyter/mnt/datasets/den2vel/datasets/2D_no_obs/')"
   ]
  },
  {
   "cell_type": "code",
   "execution_count": 807,
   "id": "e0e74033",
   "metadata": {
    "cellId": "f3kajhkxwn9s9s409e17fh"
   },
   "outputs": [
    {
     "ename": "Error",
     "evalue": "Failed to run cell: internal error. Please try again",
     "output_type": "error",
     "traceback": []
    }
   ],
   "source": [
    "#!g1.1\n",
    "import numpy as np\n",
    "from matplotlib import pyplot as plt"
   ]
  },
  {
   "cell_type": "code",
   "execution_count": 808,
   "id": "9c6d6c32",
   "metadata": {
    "cellId": "jolsyg0d1vqo3flh3zt26g"
   },
   "outputs": [
    {
     "ename": "Error",
     "evalue": "Failed to run cell: internal error. Please try again",
     "output_type": "error",
     "traceback": []
    }
   ],
   "source": [
    "#!g1.1\n",
    "\n",
    "import numpy as np\n",
    "import torch\n",
    "from torch import nn\n",
    "from torch.nn import functional as F\n",
    "from typing import Union, Callable, Optional, List\n",
    "import os\n",
    "from tqdm import tqdm\n",
    "import json"
   ]
  },
  {
   "cell_type": "code",
   "execution_count": 809,
   "id": "04fbce2c",
   "metadata": {
    "cellId": "pv4ww5g24mte6tsi07969"
   },
   "outputs": [
    {
     "name": "stderr",
     "output_type": "stream",
     "text": [
      "245it [00:00, 404.38it/s]\n"
     ]
    }
   ],
   "source": [
    "#!g1.1\n",
    "val_sims = ['/home/jupyter/mnt/datasets/den2vel/datasets/2D_no_obs/v01/sim_1001',\n",
    "            '/home/jupyter/mnt/datasets/den2vel/datasets/2D_no_obs/v01/sim_1030',\n",
    "            '/home/jupyter/mnt/datasets/den2vel/datasets/2D_no_obs/v01/sim_1058',\n",
    "            '/home/jupyter/mnt/datasets/den2vel/datasets/2D_no_obs/v02/sim_1001',\n",
    "            '/home/jupyter/mnt/datasets/den2vel/datasets/2D_no_obs/v02/sim_1030',\n",
    "            '/home/jupyter/mnt/datasets/den2vel/datasets/2D_no_obs/v02/sim_1058',\n",
    "            '/home/jupyter/mnt/datasets/den2vel/datasets/2D_no_obs/v03/sim_1001',\n",
    "            '/home/jupyter/mnt/datasets/den2vel/datasets/2D_no_obs/v03/sim_1030',\n",
    "            '/home/jupyter/mnt/datasets/den2vel/datasets/2D_no_obs/v03/sim_1058',\n",
    "            '/home/jupyter/mnt/datasets/den2vel/datasets/2D_no_obs/v04/sim_1001',\n",
    "            '/home/jupyter/mnt/datasets/den2vel/datasets/2D_no_obs/v04/sim_1030',\n",
    "            '/home/jupyter/mnt/datasets/den2vel/datasets/2D_no_obs/v04/sim_1058']\n",
    "\n",
    "train_sims = []\n",
    "\n",
    "for p in tqdm(os.walk(no_obs_path)):\n",
    "    if 'sim' in p[0]:\n",
    "        if p[0] not in val_sims:\n",
    "            train_sims.append(p[0])"
   ]
  },
  {
   "cell_type": "code",
   "execution_count": 898,
   "id": "b592676b",
   "metadata": {
    "cellId": "fvovf9yvlpmdmi584f4frn"
   },
   "outputs": [
    {
     "ename": "Error",
     "evalue": "Failed to run cell: internal error. Please try again",
     "output_type": "error",
     "traceback": []
    }
   ],
   "source": [
    "#!g1.1\n",
    "class NoObsDataset(torch.utils.data.Dataset):\n",
    "    \n",
    "    def __init__(self, sims_pth: List[Union[str, Path]],transforms: Optional[Callable] = None):\n",
    "        super().__init__()\n",
    "        self._transforms = transforms \n",
    "        self.sims_pth = sims_pth\n",
    "        self.density = []\n",
    "        self.velocity = []\n",
    "        self.s_dict = {}\n",
    "        \n",
    "        for s in tqdm(sims_pth):\n",
    "            p = next(os.walk(s))\n",
    "            for f in p[-1]:\n",
    "                if 'npz' == f[-3:]:\n",
    "                    if 'density' in f:\n",
    "                        self.density.append(f'{p[0]}/{f}')\n",
    "                    else:\n",
    "                        self.velocity.append(f'{p[0]}/{f}')\n",
    "                elif 'json' in f:\n",
    "                    with open(f'{p[0]}/{f}', 'r') as f:\n",
    "                        loaded = json.load(f)\n",
    "                        self.s_dict[p[0]] = np.array([float(loaded['bnds']), \n",
    "                                                      float(loaded['buoyFac'])], dtype=np.float32)\n",
    "                            \n",
    "                            \n",
    "        assert len(self.density) == len(self.velocity)\n",
    "        \n",
    "        self.density.sort()\n",
    "        self.velocity.sort()\n",
    "                        \n",
    "    @property\n",
    "    def transforms(self):\n",
    "        return self._transforms\n",
    "    \n",
    "    @transforms.setter\n",
    "    def transforms(self, transforms: Callable):\n",
    "        self._transforms = transforms\n",
    "        \n",
    "    def __len__(self):\n",
    "        return len(self.density)\n",
    "    \n",
    "    def __getitem__(self, index: int):\n",
    "        den_pth = self.density[index]\n",
    "        den = np.ascontiguousarray(np.load(den_pth)['arr_0'][0, ::-1])\n",
    "        vel = np.ascontiguousarray(np.load(self.velocity[index])['arr_0'][0, ::-1, :, :-1])\n",
    "        i = den_pth.find('v0')\n",
    "        s_pth = den_pth[:i + 12]\n",
    "        s = self.s_dict[s_pth]\n",
    "        \n",
    "        if self._transforms is not None:\n",
    "            den = self._transforms(den)\n",
    "            vel = self._transforms(vel)\n",
    "        return den, vel, torch.from_numpy(s)"
   ]
  },
  {
   "cell_type": "code",
   "execution_count": 899,
   "id": "8f625cc6",
   "metadata": {
    "cellId": "u4a24fsu493fsw6fcoff7"
   },
   "outputs": [],
   "source": [
    "#!g1.1\n",
    "import torchvision\n",
    "transform = torchvision.transforms.Compose([torchvision.transforms.ToTensor()])"
   ]
  },
  {
   "cell_type": "code",
   "execution_count": 926,
   "id": "de307b30",
   "metadata": {
    "cellId": "himv0rpz186ab8mfcx8o5"
   },
   "outputs": [
    {
     "data": {
      "application/vnd.jupyter.widget-view+json": {
       "model_id": "b44e638296344748a59510d42e3805c7",
       "version_major": 2,
       "version_minor": 0
      },
      "text/plain": [
       "HBox(children=(HTML(value=''), FloatProgress(value=0.0, max=228.0), HTML(value='')))"
      ]
     },
     "metadata": {},
     "output_type": "display_data"
    },
    {
     "data": {
      "application/vnd.jupyter.widget-view+json": {
       "model_id": "4e9e9f04d7eb45c380f03d94c3d8b449",
       "version_major": 2,
       "version_minor": 0
      },
      "text/plain": [
       "HBox(children=(HTML(value=''), FloatProgress(value=0.0, max=12.0), HTML(value='')))"
      ]
     },
     "metadata": {},
     "output_type": "display_data"
    },
    {
     "name": "stdout",
     "output_type": "stream",
     "text": [
      "\n",
      "\n"
     ]
    }
   ],
   "source": [
    "#!g1.1\n",
    "no_obs_train_dataset = NoObsDataset(train_sims, transforms=transform)\n",
    "no_obs_val_dataset = NoObsDataset(val_sims, transforms=transform)"
   ]
  },
  {
   "cell_type": "code",
   "execution_count": 927,
   "id": "806e35da",
   "metadata": {
    "cellId": "igdapsdpqnea74g28h9g"
   },
   "outputs": [],
   "source": [
    "#!g1.1\n",
    "BATCH_SIZE = 2\n",
    "train_loader = torch.utils.data.DataLoader(no_obs_train_dataset, batch_size=BATCH_SIZE, shuffle=True, num_workers=8)\n",
    "val_loader = torch.utils.data.DataLoader(no_obs_val_dataset, batch_size=1, shuffle=False, num_workers=8)"
   ]
  },
  {
   "cell_type": "code",
   "execution_count": 948,
   "id": "c631e505",
   "metadata": {
    "cellId": "qfompltsllcgconntu32h"
   },
   "outputs": [
    {
     "ename": "Error",
     "evalue": "Failed to run cell: internal error. Please try again",
     "output_type": "error",
     "traceback": []
    }
   ],
   "source": [
    "#!g1.1\n",
    "from typing import Optional, Tuple\n",
    "\n",
    "\n",
    "class ResBlock(nn.Module):\n",
    "    \n",
    "    def __init__(self, in_c: int, out_c: int):\n",
    "        super().__init__()\n",
    "        self.conv_1 = nn.Sequential(nn.Conv2d(in_c, out_c, 3, padding=1, padding_mode='replicate'),\n",
    "                                    nn.InstanceNorm2d(out_c),\n",
    "                                    nn.LeakyReLU())\n",
    "        self.conv_2 = nn.Sequential(nn.Conv2d(out_c, out_c, 3, padding=1, padding_mode='replicate'),\n",
    "                                    nn.InstanceNorm2d(out_c))\n",
    "    def forward(self, x: torch.Tensor) -> torch.Tensor:\n",
    "        y = self.conv_1(x)\n",
    "        y = self.conv_2(y)\n",
    "        return (x + y) / 1.41\n",
    "    \n",
    "    \n",
    "class SubNetS(nn.Module):\n",
    "    \n",
    "    def __init__(self, in_c: int):\n",
    "        super().__init__()\n",
    "        self.pool = nn.AvgPool2d(8, 8)\n",
    "        self.flatten_conv = nn.Sequential(nn.Conv2d(16, 16, 3, padding=1, padding_mode='replicate'), \n",
    "                                          nn.AvgPool2d(2, 2), nn.LeakyReLU())\n",
    "        self.s_out = nn.Sequential(nn.Flatten(), nn.Linear(16 * 4 * 4, 2))\n",
    "        self.s_in = nn.Linear(4, 4 * 8 * 8)\n",
    "        self.conv_out = nn.Sequential(nn.Conv2d(4, 8, 3, padding=1, padding_mode='replicate'),\n",
    "                                      nn.LeakyReLU(),\n",
    "                                      nn.Conv2d(8, 16, 3, padding=1, padding_mode='replicate'),\n",
    "                                      nn.LeakyReLU())\n",
    "        self.unpool = nn.Sequential(nn.Upsample((64, 64), mode='bilinear', align_corners=False), \n",
    "                                    nn.Conv2d(16, 16, 1), nn.ReLU())\n",
    "        \n",
    "    def forward(self, x: torch.Tensor, s: Optional[torch.Tensor] = None) -> Tuple[torch.Tensor, torch.Tensor]:\n",
    "        x = self.pool(x)\n",
    "        x = self.flatten_conv(x)\n",
    "        s_out = self.s_out(x)\n",
    "        if s is None:\n",
    "            s = -torch.ones_like(s_out)\n",
    "            s.requires_grad = False\n",
    "        x = torch.cat([s_out, s], dim=1)\n",
    "        x = self.s_in(x)\n",
    "        x = x.reshape(-1, 4, 8, 8)\n",
    "        x = self.conv_out(x)\n",
    "        x = self.unpool(x)\n",
    "        return x, s_out\n",
    "            \n",
    "        \n",
    "class SubNetKE(nn.Module):\n",
    "    \n",
    "    def __init__(self, in_c: int):\n",
    "        super().__init__()\n",
    "        self.conv_1 = nn.Sequential(nn.Conv2d(in_c, 8, 3, padding=1, padding_mode='replicate'),\n",
    "                                    nn.AvgPool2d(2, 2), \n",
    "                                    nn.InstanceNorm2d(8),\n",
    "                                    nn.LeakyReLU())\n",
    "        self.conv_2 = nn.Sequential(nn.Conv2d(8, 4, 3, padding=1, padding_mode='replicate'),\n",
    "                                    nn.AvgPool2d(2, 2),\n",
    "                                    nn.InstanceNorm2d(4),\n",
    "                                    nn.LeakyReLU())\n",
    "        self.ke_out_conv = nn.Conv2d(4, 1, 1)\n",
    "        self.ke_in_conv = nn.Sequential(nn.Conv2d(2, 2, 3, padding=1, padding_mode='replicate'), nn.LeakyReLU())\n",
    "        self.conv_5 = nn.Sequential(nn.Conv2d(2, 2, 3, padding=1, padding_mode='replicate'), nn.LeakyReLU(0.2))\n",
    "        self.unpool = nn.Sequential(nn.Upsample(scale_factor=4, mode='bilinear', align_corners=True), nn.Conv2d(2, 1, 1))\n",
    "        \n",
    "    def forward(self, x: torch.Tensor, ke: Optional[torch.Tensor] = None) -> Tuple[torch.Tensor, torch.Tensor]:\n",
    "        x = self.conv_1(x)\n",
    "        x = self.conv_2(x)\n",
    "        ke_out = self.ke_out_conv(x)\n",
    "        if ke is None:\n",
    "            ke = -torch.ones_like(ke_out)\n",
    "            ke.requires_grad = False\n",
    "        x = torch.cat([ke_out, ke], dim=1) if x.ndim == 4 else torch.cat([ke_out, ke], dim=0)\n",
    "        x = self.ke_in_conv(x)\n",
    "        x = self.conv_5(x)\n",
    "        return self.unpool(x), ke_out\n",
    "        \n",
    "        \n",
    "class SubNetW(nn.Module):\n",
    "    def __init__(self, in_c: int):\n",
    "        super().__init__()\n",
    "        self.up1 = nn.Sequential(nn.Upsample(scale_factor=2, mode='bilinear', align_corners=True), \n",
    "                                 nn.Conv2d(in_c, 32, 3, padding=1, padding_mode='replicate'),\n",
    "                                 nn.InstanceNorm2d(32),\n",
    "                                 nn.LeakyReLU())\n",
    "        self.up2 = nn.Sequential(nn.Upsample(scale_factor=2, mode='bilinear', align_corners=True), \n",
    "                                 nn.Conv2d(32, 16, 3, padding=1),\n",
    "                                 nn.InstanceNorm2d(16),\n",
    "                                 nn.LeakyReLU())\n",
    "        self.w_out = nn.Conv2d(16, 1, 7, padding='same', padding_mode='replicate')\n",
    "        self.w_in = nn.Sequential(nn.Conv2d(2, 16, 5, padding='same', padding_mode='replicate'),\n",
    "                                  nn.AvgPool2d(2, 2),\n",
    "                                  nn.InstanceNorm2d(16),\n",
    "                                  nn.LeakyReLU())\n",
    "        \n",
    "        self.down = nn.Sequential(nn.Conv2d(16, 24, 5, padding='same', padding_mode='replicate'),\n",
    "                                  nn.AvgPool2d(2, 2),\n",
    "                                  nn.InstanceNorm2d(24),\n",
    "                                  nn.LeakyReLU())\n",
    "        \n",
    "        self.conv_out = nn.Conv2d(24, 32, 3, padding=1)\n",
    "        \n",
    "    def forward(self, x: torch.Tensor, w: Optional[torch.Tensor] = None) -> Tuple[torch.Tensor, torch.Tensor]:\n",
    "        x = self.up1(x)\n",
    "        x = self.up2(x)\n",
    "        w_out = self.w_out(x)\n",
    "        if w is None:\n",
    "            w = -torch.ones_like(w_out)\n",
    "            w.requires_grad = False\n",
    "        x = torch.cat([w_out, w], dim=1) if x.ndim == 4 else torch.cat([w_out, w], dim=0)\n",
    "        x = self.w_in(x)\n",
    "        x = self.down(x)\n",
    "        x = self.conv_out(x)\n",
    "        return x, w_out\n",
    "    \n",
    "    \n",
    "    \n",
    "class UNet(nn.Module):\n",
    "    def __init__(self, in_c: int, out_c: int, s_subnet: nn.Module, \n",
    "                 w_subnet: nn.Module, ke_subnet: nn.Module, obstacles: bool = False):\n",
    "        super().__init__()\n",
    "        self.obstacles = obstacles\n",
    "        self.down_1 = nn.Sequential(nn.Conv2d(in_c + obstacles, 16, 3, padding=1, padding_mode='replicate'),\n",
    "                                    nn.InstanceNorm2d(16),\n",
    "                                    nn.LeakyReLU(),\n",
    "                                    nn.Conv2d(16, 32, 3, padding=1, padding_mode='replicate'),\n",
    "                                    nn.InstanceNorm2d(32),\n",
    "                                    nn.LeakyReLU())\n",
    "        self.down_2 = nn.Sequential(nn.Conv2d(32, 64, 3, padding=1, padding_mode='replicate'),\n",
    "                                    nn.AvgPool2d(2, 2),\n",
    "                                    nn.InstanceNorm2d(64),\n",
    "                                    nn.LeakyReLU())\n",
    "        \n",
    "        self.down_3 = nn.Sequential(nn.Conv2d(64, 128, 3, padding=1, padding_mode='replicate'),\n",
    "                                    nn.AvgPool2d(2, 2),\n",
    "                                    nn.InstanceNorm2d(128),\n",
    "                                    nn.LeakyReLU())\n",
    "        self.resblock_1 = ResBlock(128, 128)\n",
    "        self.resblock_2 = ResBlock(128, 128)\n",
    "        self.resblock_3 = ResBlock(128, 128)\n",
    "        self.resblock_4 = ResBlock(145, 145)\n",
    "        self.resblock_5 = ResBlock(145, 145)\n",
    "        self.resblock_6 = ResBlock(145, 145)\n",
    "        \n",
    "        self.subnet_conv = nn.Sequential(nn.Conv2d(128, 16, 3, padding=1, padding_mode='replicate'), \n",
    "                                         nn.LeakyReLU())\n",
    "        \n",
    "        self.up_1 = nn.Sequential(nn.Conv2d(177, 128, 3, padding=1, padding_mode='replicate'),\n",
    "                                  nn.InstanceNorm2d(128),\n",
    "                                  nn.LeakyReLU(),\n",
    "                                  nn.Conv2d(128, 128, 3, padding=1),\n",
    "                                  nn.InstanceNorm2d(128),\n",
    "                                  nn.LeakyReLU(),\n",
    "                                  nn.Upsample((128, 128), mode='bilinear', align_corners=True))\n",
    "        self.up_2 = nn.Sequential(nn.Conv2d(128, 64, 3, padding=1, padding_mode='replicate'),\n",
    "                                  nn.InstanceNorm2d(64),\n",
    "                                  nn.LeakyReLU(),\n",
    "                                  nn.Upsample((256, 256), mode='bilinear', align_corners=True))\n",
    "            \n",
    "        self.up_3 = nn.Sequential(nn.Conv2d(64, 32, 3, padding=1, padding_mode='replicate'),\n",
    "                                  nn.LeakyReLU())\n",
    "                        \n",
    "        self.conv_out = nn.Sequential(nn.Conv2d(32, out_c, 3, padding=1, padding_mode='replicate'), nn.ReLU())\n",
    "        \n",
    "        self.s_subnet = s_subnet\n",
    "        self.ke_subnet = ke_subnet\n",
    "        self.w_subnet = w_subnet\n",
    "        \n",
    "    def forward(self, x: torch.Tensor, s: Optional[torch.Tensor] = None, \n",
    "                w: Optional[torch.Tensor] = None, ke: Optional[torch.Tensor] = None) -> Tuple[torch.Tensor, torch.Tensor, \n",
    "                                                                                              torch.Tensor, torch.Tensor]:\n",
    "        x = self.down_1(x)\n",
    "        x = self.down_2(x)\n",
    "        x = self.down_3(x)\n",
    "        \n",
    "        x = self.resblock_1(x) \n",
    "        x = self.resblock_2(x)\n",
    "        x = self.resblock_3(x)\n",
    "        \n",
    "        y = self.subnet_conv(x)\n",
    "        \n",
    "        \n",
    "        y_s, s_out = self.s_subnet(y, s) # 16 x 8 x 8\n",
    "        y_ke, ke_out = self.ke_subnet(y, ke) # 1 x 16 x 16\n",
    "        \n",
    "        x = torch.cat([F.interpolate(y_s, size=(64, 64), mode='bilinear', align_corners=True), \n",
    "                       F.interpolate(y_ke, size=(64, 64), mode='bilinear', align_corners=True), x], dim=1)\n",
    "        \n",
    "        x = self.resblock_4(x)\n",
    "        x = self.resblock_5(x)\n",
    "        x = self.resblock_6(x)\n",
    "\n",
    "        y, w_out = self.w_subnet(x, w)\n",
    "        \n",
    "        \n",
    "        x = torch.cat([F.interpolate(y, size=(64, 64), mode='bilinear', align_corners=True), x], dim=1)\n",
    "        \n",
    "        x = self.up_1(x)\n",
    "        x = self.up_2(x)\n",
    "        x = self.up_3(x)\n",
    "        \n",
    "        x = self.conv_out(x)\n",
    "        \n",
    "        return x, s_out, w_out, ke_out"
   ]
  },
  {
   "cell_type": "code",
   "execution_count": 939,
   "id": "aeff0cf9",
   "metadata": {
    "cellId": "arshjhcamnpp3c9xdz4m2s"
   },
   "outputs": [],
   "source": [
    "#!g1.1\n",
    "from typing import Sequence\n",
    "def flatten(*tensors: Sequence[torch.Tensor], BATCH_SIZE: int) -> torch.Tensor:\n",
    "    return torch.cat([t.reshape(BATCH_SIZE, -1) for t in tensors], dim=1)"
   ]
  },
  {
   "cell_type": "code",
   "execution_count": 940,
   "id": "c15cbed9",
   "metadata": {
    "cellId": "dritc1dltthlp0ziaxxmts"
   },
   "outputs": [],
   "source": [
    "#!g1.1\n",
    "def curl(x):\n",
    "    dy = x[:, :, 1:] - x[:, :, :-1]\n",
    "    dx = -x[..., 1:] + x[..., :-1]\n",
    "    #dy = torch.cat([dy, dy[:, :, -1].unsqueeze(2)], dim=2)\n",
    "    #dx = torch.cat([dx, dx[..., -1].unsqueeze(3)], dim=3)\n",
    "    dy = F.pad(dy, (0, 0, 0, 1), mode='replicate')\n",
    "    dx = F.pad(dx, (0, 1, 0, 0), mode='replicate')\n",
    "    return torch.cat([dy,dx], dim=1)"
   ]
  },
  {
   "cell_type": "code",
   "execution_count": 941,
   "id": "de3686c7",
   "metadata": {
    "cellId": "7x0yrx0wf7fnqw8xvoobg"
   },
   "outputs": [
    {
     "ename": "Error",
     "evalue": "Failed to run cell: internal error. Please try again",
     "output_type": "error",
     "traceback": []
    }
   ],
   "source": [
    "#!g1.1\n",
    "def loss(f, pred, gt):\n",
    "    return sum(f(p, t) for p, t in zip(pred, gt))"
   ]
  },
  {
   "cell_type": "code",
   "execution_count": 970,
   "id": "9efd1ddd",
   "metadata": {
    "cellId": "g9ms43whwusujesvauml2q"
   },
   "outputs": [],
   "source": [
    "#!g1.1\n",
    "\n",
    "from typing import Mapping, Tuple\n",
    "\n",
    "def train_step(G: nn.Module, D: nn.Module, d: torch.Tensor, u: torch.Tensor, \n",
    "               s: Tuple[torch.Tensor], w: Tuple[torch.Tensor], ke: Tuple[torch.Tensor], \n",
    "               augm_inputs: Optional[Sequence[Tuple[torch.Tensor]]], \n",
    "               optG: Callable, optD: Callable, BATCH_SIZE: int, k: float, \n",
    "               l_adv: float = 0.2, l_l1: float = 1.0) -> Mapping[str, torch.Tensor]:\n",
    "    \n",
    "    optG.zero_grad(True)\n",
    "    \n",
    "    (s_, s), (w_, w), (ke_, ke) = s, w, ke\n",
    "    \n",
    "    g_out, g_s, g_w, g_ke = G(d, s_, w_, ke_)\n",
    "    g_u = curl(g_out)\n",
    "    \n",
    "    optD.zero_grad(True)\n",
    "    \n",
    "    gt_den = [d, s, w, ke]\n",
    "    \n",
    "    D_p_loss = loss(F.l1_loss, D(u), gt_den)\n",
    "    D_n_loss = loss(F.l1_loss, D(g_u.detach(), g_s.detach(), g_w.detach(), g_ke.detach()), gt_den)\n",
    "    \n",
    "    D_loss = D_p_loss - k * D_n_loss\n",
    "    D_loss.backward()\n",
    "    optD.step()\n",
    "    \n",
    "    #flatten_gd_out = flatten(*D(g_u, g_s, g_w, g_ke), BATCH_SIZE=BATCH_SIZE)\n",
    "    #flatten_vel = flatten(u, s_r, w_r, ke_r, BATCH_SIZE=BATCH_SIZE)\n",
    "    #dg_u, dg_s, dg_w, dg_ke = \n",
    "    \n",
    "    g_out_l1, s_l1, w_l1, ke_l1 = G(d)\n",
    "    g_u_l1 = curl(g_out_l1)\n",
    "    \n",
    "    #l1_out = flatten(curl(g_out_l1), s_l1, w_l1, ke_l1, BATCH_SIZE=BATCH_SIZE)\n",
    "    \n",
    "    #G_loss = l_adv * F.mse_loss(flatten_gd_out, flatten_den) + l_l1 * F.l1_loss(l1_out, flatten_vel)\n",
    "    G_adv_loss = l_adv * loss(F.l1_loss, D(g_u, g_s, g_w, g_ke), gt_den)\n",
    "    l1_loss = l_l1 * loss(F.l1_loss, [g_u_l1, s_l1, w_l1, ke_l1], [u, s, w, ke])\n",
    "    \n",
    "    if augm_inputs is not None:\n",
    "        u_augm, (w_augm_, w_augm), (ke_augm_, ke_augm) = augm_inputs\n",
    "        g_out_a, gs_augm, gw_augm, gke_augm = G(d, s, w_augm_, ke_augm_)\n",
    "        gu_augm = curl(g_out_a)\n",
    "        mod_loss = 0.6 * loss(F.l1_loss, D(gu_augm, gs_augm, gw_augm, gke_augm), [d, s, w_augm, ke_augm])\n",
    "        G_loss = G_adv_loss + l1_loss + mod_loss\n",
    "    else:\n",
    "        G_loss = G_adv_loss + l1_loss\n",
    "    \n",
    "    G_loss.backward()\n",
    "    optG.step()\n",
    "    \n",
    "    return {'G_loss': G_loss.detach().cpu().item(),\n",
    "            'D_p_loss': D_p_loss.detach().cpu().item(),\n",
    "            'D_n_loss': D_n_loss.detach().cpu().item()}\n",
    "    \n",
    "    "
   ]
  },
  {
   "cell_type": "code",
   "execution_count": 977,
   "id": "573231d6",
   "metadata": {
    "cellId": "vc8hython7ojj79e825n2h"
   },
   "outputs": [],
   "source": [
    "#!g1.1\n",
    "from tqdm.notebook import tqdm\n",
    "from typing import Iterable\n",
    "\n",
    "def energy(vel: torch.Tensor) -> torch.Tensor:\n",
    "    return F.avg_pool2d(vel.pow(2).sum(1, keepdim=True), 16, 16)\n",
    "\n",
    "# def augment_energy(ke, den):\n",
    "#     std = ke.std((-2, -1), keepdim=True)\n",
    "#     return ke + F.avg_pool2d((torch.randn_like(den) / max(10, std.max())), 16, 16)\n",
    "\n",
    "def augment_velocity(vel):\n",
    "    std = vel.std()\n",
    "    vel = F.avg_pool2d(vel, 16, 16)\n",
    "    eps = torch.randn_like(vel) / 100\n",
    "    return torch.relu(F.interpolate(vel + eps, size=(256, 256), \n",
    "                                    mode='bilinear', align_corners=True))\n",
    "    \n",
    "def get_flags(x: torch.Tensor, p: float, size: Union[Sequence, int]) -> torch.Tensor:\n",
    "    mask = torch.tensor(np.random.binomial(1, 0.5, size=size), device=device)\n",
    "    return (1.0 - mask) * x - mask * torch.ones_like(x)\n",
    "    \n",
    "    \n",
    "def moving_avg(x, y, alpha: float):\n",
    "    return (1.0 - alpha) * x + alpha * y\n",
    "\n",
    "def train(G: nn.Module, D: nn.Module, optG: Callable, optD: Callable, train_loader: Iterable, \n",
    "          val_loader: Iterable, num_epochs: int, device: str, BATCH_SIZE: int, alpha: float = 0.3, beta: float = 0.3):\n",
    "    losses = {'G_loss': [],\n",
    "              'D_p_loss': [],\n",
    "              'D_n_loss': []}\n",
    "    k = gamma = 1e-4\n",
    "    D_p_loss = D_n_loss = 0.0\n",
    "    for epoch in range(num_epochs):\n",
    "        for key in losses.keys():\n",
    "            losses[key].append([])\n",
    "        G.train(), D.train()\n",
    "        for den, vel, s in tqdm(train_loader):\n",
    "            den, vel, s = den.to(device), vel.to(device), s.to(device),\n",
    "            augm_inputs = None\n",
    "            if np.random.binomial(1, 0.25):\n",
    "                vel_augm = augment_velocity(vel)\n",
    "                ke_augm = energy(vel_augm)\n",
    "                vdx = F.pad((vel_augm[:, 1, :, 1:] - vel_augm[:, 1, :, :-1])[:, None], (0, 1, 0, 0), mode='replicate')\n",
    "                udy = F.pad((vel_augm[:, 0, 1:] - vel_augm[:, 0, :-1])[:, None], (0, 0, 0, 1), mode='replicate')\n",
    "                w_augm = vdx - udy\n",
    "                \n",
    "                ke_augm_ = get_flags(ke_augm, 0.5, (BATCH_SIZE, 1, 1, 1))\n",
    "                w_augm_ = get_flags(w_augm, 0.5, (BATCH_SIZE, 1, 1, 1))\n",
    "                \n",
    "                augm_inputs = [vel_augm, (w_augm_, w_augm), (ke_augm_, ke_augm)]\n",
    "                \n",
    "            ke = energy(vel)\n",
    "            vdx = F.pad((vel[:, 1, :, 1:] - vel[:, 1, :, :-1])[:, None], (0, 1, 0, 0), mode='replicate')\n",
    "            udy = F.pad((vel[:, 0, 1:] - vel[:, 0, :-1])[:, None], (0, 0, 0, 1), mode='replicate')\n",
    "            \n",
    "            w = vdx - udy\n",
    "            \n",
    "            ke_ = get_flags(ke, 0.5, (BATCH_SIZE, 1, 1, 1))\n",
    "            w_ = get_flags(w, 0.5, (BATCH_SIZE, 1, 1, 1))\n",
    "            s_ = get_flags(s, 0.5, (BATCH_SIZE, 1))\n",
    "            \n",
    "            loss = train_step(G, D, den, vel, (s_, s), (w_, w), (ke_, ke), augm_inputs, optG, optD, BATCH_SIZE, k)\n",
    "            \n",
    "            D_p_loss = moving_avg(D_p_loss, loss['D_p_loss'], alpha)\n",
    "            D_n_loss = moving_avg(D_n_loss, loss['D_n_loss'], alpha)\n",
    "            \n",
    "            gamma = D_p_loss / D_n_loss\n",
    "            k = moving_avg(k, gamma, beta)\n",
    "            \n",
    "            for key in loss.keys():\n",
    "                losses[key][-1].append(loss[key])\n",
    "        for key in losses.keys():\n",
    "            losses[key][-1] = np.mean(losses[key][-1])\n",
    "        \n",
    "        print(f'Epoch:{ epoch}')\n",
    "        \n",
    "        for key in losses.keys():\n",
    "            print(f'{key}: {losses[key][-1]}')\n",
    "        \n",
    "        G.eval()\n",
    "        \n",
    "        with torch.no_grad():\n",
    "            for i, (den, vel, s) in tqdm(enumerate(val_loader)):\n",
    "                if np.random.binomial(1, p=0.005):\n",
    "                    den, vel, s = den.to(device), vel.to(device), s.to(device),\n",
    "                    g_out, s, w, ke = G(den)\n",
    "                    u = curl(g_out).cpu().numpy()\n",
    "                    plt.imshow(den[0][0].cpu().numpy(), cmap='gray')\n",
    "                    plt.title(f'den{i}_{epoch}')\n",
    "                    plt.savefig(f'den/den{i}_{epoch}.png')\n",
    "                    plt.clf()\n",
    "                    plt.imshow(vel.pow(2).sum(1)[0].cpu().numpy(), cmap='gray')\n",
    "                    plt.title(f'gt_vel{i}_{epoch}')\n",
    "                    plt.savefig(f'gt_vel/gt_vel{i}_{epoch}.png')\n",
    "                    plt.clf()\n",
    "                    plt.imshow(u[0][0], cmap='gray')\n",
    "                    plt.title(f'vel{i}_0_{epoch}')\n",
    "                    plt.savefig(f'vel/vel{i}_0_{epoch}.png')\n",
    "                    plt.clf()\n",
    "                    plt.imshow(u[0][1], cmap='gray')\n",
    "                    plt.title(f'vel{i}_1_{epoch}')\n",
    "                    plt.savefig(f'vel/vel{i}_1_{epoch}.png')\n",
    "                    plt.clf()\n",
    "                    plt.imshow(np.sqrt(u[0][1] ** 2 + u[0][0] ** 2), cmap='gray')\n",
    "                    plt.title(f'vel{i}_{epoch}')\n",
    "                    plt.savefig(f'vel/vel{i}_{epoch}.png')\n",
    "                    plt.clf()\n",
    "                    plt.imshow(w[0, 0].cpu().numpy(), cmap='gray')\n",
    "                    plt.title(f'w{i}_{epoch}')\n",
    "                    plt.savefig(f'vort/w{i}_{epoch}.png')\n",
    "                    plt.clf()\n",
    "        torch.save(G, 'G.pth'), torch.save(D, 'D.pth')"
   ]
  },
  {
   "cell_type": "code",
   "execution_count": 978,
   "id": "9807195a",
   "metadata": {
    "cellId": "q5qydv81g7kf2ebn35dn3r"
   },
   "outputs": [],
   "source": [
    "#!g1.1\n",
    "device = torch.device('cuda')"
   ]
  },
  {
   "cell_type": "code",
   "execution_count": 982,
   "id": "002afa69",
   "metadata": {
    "cellId": "y590ywaalwis6tcwujc25j"
   },
   "outputs": [
    {
     "name": "stdout",
     "output_type": "stream",
     "text": [
      "G and D initialized\n"
     ]
    }
   ],
   "source": [
    "#!g1.1\n",
    "G_S_net = SubNetS(16)\n",
    "G_W_net = SubNetW(145)\n",
    "G_KE_net = SubNetKE(16)\n",
    "\n",
    "G = UNet(1, 1, G_S_net, G_W_net, G_KE_net)\n",
    "\n",
    "D_S_net = SubNetS(16)\n",
    "D_W_net = SubNetW(145)\n",
    "D_KE_net = SubNetKE(16)\n",
    "\n",
    "D = UNet(2, 1, D_S_net, D_W_net, D_KE_net)\n",
    "\n",
    "G.to(device), D.to(device)\n",
    "print('G and D initialized')"
   ]
  },
  {
   "cell_type": "code",
   "execution_count": 984,
   "id": "307cab83",
   "metadata": {
    "cellId": "7gb4niwqo1d9icf0y2d8wh"
   },
   "outputs": [],
   "source": [
    "#!g1.1\n",
    "optG = torch.optim.Adam(G.parameters(), lr=2e-5)\n",
    "optD = torch.optim.Adam(D.parameters(), lr=2e-5)"
   ]
  },
  {
   "cell_type": "code",
   "execution_count": null,
   "id": "2bb19ef7",
   "metadata": {
    "cellId": "pt89nisblgdcyuc7wfauh8"
   },
   "outputs": [
    {
     "data": {
      "application/vnd.jupyter.widget-view+json": {
       "model_id": "209db51196064f6697509ce3a483d223",
       "version_major": 2,
       "version_minor": 0
      },
      "text/plain": [
       "HBox(children=(HTML(value=''), FloatProgress(value=0.0, max=22800.0), HTML(value='')))"
      ]
     },
     "metadata": {},
     "output_type": "display_data"
    },
    {
     "name": "stdout",
     "output_type": "stream",
     "text": [
      "\n",
      "Epoch:0\n",
      "G_loss: 120.30139159082582\n",
      "D_p_loss: 0.5937577515036652\n",
      "D_n_loss: 338.59026108754045\n"
     ]
    },
    {
     "data": {
      "application/vnd.jupyter.widget-view+json": {
       "model_id": "2774aaf52ea24c2d9cfbf8dd6c933a79",
       "version_major": 2,
       "version_minor": 0
      },
      "text/plain": [
       "HBox(children=(HTML(value=''), FloatProgress(value=1.0, bar_style='info', layout=Layout(width='20px'), max=1.0…"
      ]
     },
     "metadata": {},
     "output_type": "display_data"
    },
    {
     "name": "stdout",
     "output_type": "stream",
     "text": [
      "\n"
     ]
    },
    {
     "data": {
      "application/vnd.jupyter.widget-view+json": {
       "model_id": "fe91b0751f5947bea10e1b65a3b40261",
       "version_major": 2,
       "version_minor": 0
      },
      "text/plain": [
       "HBox(children=(HTML(value=''), FloatProgress(value=0.0, max=22800.0), HTML(value='')))"
      ]
     },
     "metadata": {},
     "output_type": "display_data"
    },
    {
     "name": "stdout",
     "output_type": "stream",
     "text": [
      "\n",
      "Epoch:1\n",
      "G_loss: 510.62269384806615\n",
      "D_p_loss: 0.4559019178531149\n",
      "D_n_loss: 1444.02645653595\n"
     ]
    },
    {
     "data": {
      "application/vnd.jupyter.widget-view+json": {
       "model_id": "74b5aa5548504127b4d0de2c5a7b5aca",
       "version_major": 2,
       "version_minor": 0
      },
      "text/plain": [
       "HBox(children=(HTML(value=''), FloatProgress(value=1.0, bar_style='info', layout=Layout(width='20px'), max=1.0…"
      ]
     },
     "metadata": {},
     "output_type": "display_data"
    },
    {
     "name": "stdout",
     "output_type": "stream",
     "text": [
      "\n"
     ]
    },
    {
     "data": {
      "application/vnd.jupyter.widget-view+json": {
       "model_id": "003ffaa057b041c9b26a48d90c25db79",
       "version_major": 2,
       "version_minor": 0
      },
      "text/plain": [
       "HBox(children=(HTML(value=''), FloatProgress(value=0.0, max=22800.0), HTML(value='')))"
      ]
     },
     "metadata": {},
     "output_type": "display_data"
    },
    {
     "name": "stdout",
     "output_type": "stream",
     "text": [
      "\n",
      "Epoch:2\n",
      "G_loss: 1057.7391243730513\n",
      "D_p_loss: 0.37515485453403047\n",
      "D_n_loss: 3028.8530431058116\n"
     ]
    },
    {
     "data": {
      "application/vnd.jupyter.widget-view+json": {
       "model_id": "c17b971ee05c4f24b1cd8fe68f38c530",
       "version_major": 2,
       "version_minor": 0
      },
      "text/plain": [
       "HBox(children=(HTML(value=''), FloatProgress(value=1.0, bar_style='info', layout=Layout(width='20px'), max=1.0…"
      ]
     },
     "metadata": {},
     "output_type": "display_data"
    },
    {
     "name": "stdout",
     "output_type": "stream",
     "text": [
      "\n"
     ]
    },
    {
     "data": {
      "application/vnd.jupyter.widget-view+json": {
       "model_id": "ff29d967baa9441ab2833a58f52aa992",
       "version_major": 2,
       "version_minor": 0
      },
      "text/plain": [
       "HBox(children=(HTML(value=''), FloatProgress(value=0.0, max=22800.0), HTML(value='')))"
      ]
     },
     "metadata": {},
     "output_type": "display_data"
    }
   ],
   "source": [
    "#!g1.1\n",
    "train(G, D, optG, optD, train_loader, val_loader, 10, device, BATCH_SIZE, alpha=0.1, beta=0.8)"
   ]
  },
  {
   "cell_type": "code",
   "execution_count": null,
   "id": "a4aaf23b",
   "metadata": {
    "cellId": "iq5f5k81b2y4wol1l2p7m"
   },
   "outputs": [],
   "source": [
    "#!g1.1\n",
    "\n",
    "with torch.no_grad():\n",
    "    den, vel, s = den.to(device), vel.to(device), s.to(device),\n",
    "    g_out, s, w, ke = G(den)\n",
    "    u = curl(g_out).cpu().numpy()"
   ]
  },
  {
   "cell_type": "code",
   "execution_count": 907,
   "id": "2760d303",
   "metadata": {
    "cellId": "5m8hizia73o7g8un7wwt8c"
   },
   "outputs": [
    {
     "data": {
      "text/plain": [
       "2400"
      ]
     },
     "execution_count": 907,
     "metadata": {},
     "output_type": "execute_result"
    }
   ],
   "source": [
    "#!g1.1\n"
   ]
  },
  {
   "cell_type": "code",
   "execution_count": 925,
   "id": "d4ebb3aa",
   "metadata": {
    "cellId": "g8f0llbgeo8ajxkqhx4d4h"
   },
   "outputs": [
    {
     "data": {
      "text/plain": [
       "<matplotlib.image.AxesImage at 0x7f7a0c2c2e80>"
      ]
     },
     "execution_count": 925,
     "metadata": {},
     "output_type": "execute_result"
    },
    {
     "data": {
      "image/png": "[encoded data removed]",
      "text/plain": [
       "<Figure size 432x288 with 1 Axes>"
      ]
     },
     "metadata": {
      "needs_background": "light"
     },
     "output_type": "display_data"
    }
   ],
   "source": [
    "#!g1.1\n",
    "vel = no_obs_val_dataset[797][1][None]\n",
    "vdx = F.pad((vel[:, 1, :, 1:] - vel[:, 1, :, :-1])[:, None], (0, 1, 0, 0), mode='replicate')\n",
    "udy = F.pad((vel[:, 0, 1:] - vel[:, 0, :-1])[:, None], (0, 0, 0, 1), mode='replicate')\n",
    "\n",
    "w = vdx - udy\n",
    "plt.imshow(w[0][0], cmap='gray')\n",
    "             "
   ]
  },
  {
   "cell_type": "code",
   "execution_count": 905,
   "id": "2d6ded5b",
   "metadata": {
    "cellId": "naignqea89a9an3zji8g9l"
   },
   "outputs": [
    {
     "ename": "Error",
     "evalue": "Failed to run cell: internal error. Please try again",
     "output_type": "error",
     "traceback": []
    }
   ],
   "source": [
    "#!g1.1\n",
    "\n",
    "    if i == 20:\n",
    "        break\n",
    "    plt.imshow(den[0, 0])\n",
    "    plt.show()"
   ]
  }
 ],
 "metadata": {
  "language_info": {
   "codemirror_mode": {
    "name": "ipython",
    "version": 3
   },
   "file_extension": ".py",
   "mimetype": "text/x-python",
   "name": "python",
   "nbconvert_exporter": "python",
   "pygments_lexer": "ipython3",
   "version": "3.7.7"
  },
  "notebookId": "7eafd645-2046-4633-b926-27282db9841c",
  "notebookPath": "den2vel.ipynb"
 },
 "nbformat": 4,
 "nbformat_minor": 5
}
